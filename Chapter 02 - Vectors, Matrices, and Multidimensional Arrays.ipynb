{
 "cells": [
  {
   "cell_type": "markdown",
   "id": "f80adfd5",
   "metadata": {},
   "source": [
    "Numpy arrays are *homogeneous amd typed arrays*, meaning that all elements in a numpy array have the same data type of fixed sizes. This is advantageous because it permits generic array operations without having to check the type nor size in memory for each element."
   ]
  },
  {
   "cell_type": "code",
   "execution_count": 1,
   "id": "61eb84c1",
   "metadata": {},
   "outputs": [],
   "source": [
    "import numpy as np"
   ]
  },
  {
   "cell_type": "code",
   "execution_count": 2,
   "id": "8354b9f8",
   "metadata": {},
   "outputs": [],
   "source": [
    "np.ndarray?"
   ]
  },
  {
   "cell_type": "code",
   "execution_count": 3,
   "id": "a3121f8c",
   "metadata": {},
   "outputs": [],
   "source": [
    "data = np.array([[1, 2], [3, 4], [5, 6]])\n",
    "# data has attributes:\n",
    "# shape - the number of elements for each dimension\n",
    "# size - the total number of elements in the array\n",
    "# ndim - the number of dimensions\n",
    "# nbytes - the number of bytes to store the data (depends on what the type is)\n",
    "# dtype - the type of the data"
   ]
  },
  {
   "cell_type": "code",
   "execution_count": 4,
   "id": "ff701458",
   "metadata": {},
   "outputs": [
    {
     "data": {
      "text/plain": [
       "numpy.ndarray"
      ]
     },
     "execution_count": 4,
     "metadata": {},
     "output_type": "execute_result"
    }
   ],
   "source": [
    "type(data)"
   ]
  },
  {
   "cell_type": "code",
   "execution_count": 5,
   "id": "e56068b6",
   "metadata": {},
   "outputs": [
    {
     "data": {
      "text/plain": [
       "array([[1, 2],\n",
       "       [3, 4],\n",
       "       [5, 6]])"
      ]
     },
     "execution_count": 5,
     "metadata": {},
     "output_type": "execute_result"
    }
   ],
   "source": [
    "data"
   ]
  },
  {
   "cell_type": "code",
   "execution_count": 6,
   "id": "d2fdfae2",
   "metadata": {},
   "outputs": [
    {
     "data": {
      "text/plain": [
       "(3, 2)"
      ]
     },
     "execution_count": 6,
     "metadata": {},
     "output_type": "execute_result"
    }
   ],
   "source": [
    "data.shape # the number of elements for each dimension"
   ]
  },
  {
   "cell_type": "code",
   "execution_count": 7,
   "id": "6671ab33",
   "metadata": {},
   "outputs": [
    {
     "data": {
      "text/plain": [
       "6"
      ]
     },
     "execution_count": 7,
     "metadata": {},
     "output_type": "execute_result"
    }
   ],
   "source": [
    "data.size # the total number of elements in the array"
   ]
  },
  {
   "cell_type": "code",
   "execution_count": 8,
   "id": "71b0e6e6",
   "metadata": {},
   "outputs": [
    {
     "data": {
      "text/plain": [
       "2"
      ]
     },
     "execution_count": 8,
     "metadata": {},
     "output_type": "execute_result"
    }
   ],
   "source": [
    "data.ndim # the number of dimensions"
   ]
  },
  {
   "cell_type": "code",
   "execution_count": 9,
   "id": "198037e8",
   "metadata": {},
   "outputs": [
    {
     "data": {
      "text/plain": [
       "24"
      ]
     },
     "execution_count": 9,
     "metadata": {},
     "output_type": "execute_result"
    }
   ],
   "source": [
    "data.nbytes # the number of bytes to store the data (depends on what the type is)"
   ]
  },
  {
   "cell_type": "code",
   "execution_count": 11,
   "id": "4d82fa4f",
   "metadata": {},
   "outputs": [
    {
     "data": {
      "text/plain": [
       "dtype('int32')"
      ]
     },
     "execution_count": 11,
     "metadata": {},
     "output_type": "execute_result"
    }
   ],
   "source": [
    "data.dtype # the type of the data"
   ]
  },
  {
   "cell_type": "code",
   "execution_count": 53,
   "id": "47e0d17f",
   "metadata": {},
   "outputs": [],
   "source": [
    "data2 = np.array([[1, 2], [3, 4], [5, 6]], dtype=\"int8\")"
   ]
  },
  {
   "cell_type": "code",
   "execution_count": 52,
   "id": "6f5ba957",
   "metadata": {},
   "outputs": [
    {
     "data": {
      "text/plain": [
       "array([[1, 2],\n",
       "       [3, 4],\n",
       "       [5, 6]], dtype=int8)"
      ]
     },
     "execution_count": 52,
     "metadata": {},
     "output_type": "execute_result"
    }
   ],
   "source": [
    "data2"
   ]
  },
  {
   "cell_type": "code",
   "execution_count": 55,
   "id": "9ea7d629",
   "metadata": {},
   "outputs": [
    {
     "data": {
      "text/plain": [
       "array([1, 2, 3])"
      ]
     },
     "execution_count": 55,
     "metadata": {},
     "output_type": "execute_result"
    }
   ],
   "source": [
    "np.array([1, 2, 3], dtype=int)"
   ]
  },
  {
   "cell_type": "code",
   "execution_count": 57,
   "id": "8a38872f",
   "metadata": {},
   "outputs": [
    {
     "data": {
      "text/plain": [
       "array([1., 2., 3.])"
      ]
     },
     "execution_count": 57,
     "metadata": {},
     "output_type": "execute_result"
    }
   ],
   "source": [
    "np.array([1, 2, 3], dtype=float)"
   ]
  },
  {
   "cell_type": "code",
   "execution_count": 59,
   "id": "105cad1d",
   "metadata": {},
   "outputs": [
    {
     "data": {
      "text/plain": [
       "array([1.+0.j, 2.+0.j, 3.+0.j])"
      ]
     },
     "execution_count": 59,
     "metadata": {},
     "output_type": "execute_result"
    }
   ],
   "source": [
    "np.array([1, 2, 3], dtype=complex)"
   ]
  },
  {
   "cell_type": "markdown",
   "id": "dd20ab6c",
   "metadata": {},
   "source": [
    "### Casting types\n"
   ]
  },
  {
   "cell_type": "code",
   "execution_count": 60,
   "id": "bfab32ed",
   "metadata": {},
   "outputs": [],
   "source": [
    "data = np.array([1, 2, 3], dtype=float)"
   ]
  },
  {
   "cell_type": "code",
   "execution_count": 64,
   "id": "46334f4a",
   "metadata": {},
   "outputs": [
    {
     "data": {
      "text/plain": [
       "array([1., 2., 3.])"
      ]
     },
     "execution_count": 64,
     "metadata": {},
     "output_type": "execute_result"
    }
   ],
   "source": [
    "data"
   ]
  },
  {
   "cell_type": "code",
   "execution_count": 65,
   "id": "b07d1742",
   "metadata": {},
   "outputs": [
    {
     "data": {
      "text/plain": [
       "dtype('float64')"
      ]
     },
     "execution_count": 65,
     "metadata": {},
     "output_type": "execute_result"
    }
   ],
   "source": [
    "data.dtype"
   ]
  },
  {
   "cell_type": "code",
   "execution_count": 66,
   "id": "5c3dbac0",
   "metadata": {},
   "outputs": [],
   "source": [
    "data = np.array(data, dtype=int) # casting float to int"
   ]
  },
  {
   "cell_type": "code",
   "execution_count": 67,
   "id": "b3c570f6",
   "metadata": {},
   "outputs": [
    {
     "data": {
      "text/plain": [
       "array([1, 2, 3])"
      ]
     },
     "execution_count": 67,
     "metadata": {},
     "output_type": "execute_result"
    }
   ],
   "source": [
    "data"
   ]
  },
  {
   "cell_type": "code",
   "execution_count": 72,
   "id": "834c5f1a",
   "metadata": {},
   "outputs": [],
   "source": [
    "data = data.astype(float) # casting using astype"
   ]
  },
  {
   "cell_type": "code",
   "execution_count": 73,
   "id": "790caa35",
   "metadata": {},
   "outputs": [
    {
     "data": {
      "text/plain": [
       "array([1., 2., 3.])"
      ]
     },
     "execution_count": 73,
     "metadata": {},
     "output_type": "execute_result"
    }
   ],
   "source": [
    "data"
   ]
  },
  {
   "cell_type": "markdown",
   "id": "000690fd",
   "metadata": {},
   "source": [
    "#### When making operations, the dtypes can be promoted"
   ]
  },
  {
   "cell_type": "code",
   "execution_count": 75,
   "id": "8447db96",
   "metadata": {},
   "outputs": [
    {
     "data": {
      "text/plain": [
       "array([2.+0.j, 4.+0.j, 6.+0.j])"
      ]
     },
     "execution_count": 75,
     "metadata": {},
     "output_type": "execute_result"
    }
   ],
   "source": [
    "d1 = np.array([1, 2, 3], dtype=float)\n",
    "d2 = np.array([1, 2, 3], dtype=complex)\n",
    "d1 + d2"
   ]
  },
  {
   "cell_type": "code",
   "execution_count": 76,
   "id": "9d0324f2",
   "metadata": {},
   "outputs": [
    {
     "data": {
      "text/plain": [
       "dtype('complex128')"
      ]
     },
     "execution_count": 76,
     "metadata": {},
     "output_type": "execute_result"
    }
   ],
   "source": [
    "Out[75].dtype"
   ]
  },
  {
   "cell_type": "code",
   "execution_count": 78,
   "id": "0809cf6e",
   "metadata": {},
   "outputs": [
    {
     "name": "stderr",
     "output_type": "stream",
     "text": [
      "C:\\Users\\phila\\AppData\\Local\\Temp/ipykernel_6856/208196152.py:1: RuntimeWarning: invalid value encountered in sqrt\n",
      "  np.sqrt(np.array([-1, 0, 1]))\n"
     ]
    },
    {
     "data": {
      "text/plain": [
       "array([nan,  0.,  1.])"
      ]
     },
     "execution_count": 78,
     "metadata": {},
     "output_type": "execute_result"
    }
   ],
   "source": [
    "np.sqrt(np.array([-1, 0, 1]))"
   ]
  },
  {
   "cell_type": "code",
   "execution_count": 79,
   "id": "382043a5",
   "metadata": {},
   "outputs": [
    {
     "data": {
      "text/plain": [
       "array([0.+1.j, 0.+0.j, 1.+0.j])"
      ]
     },
     "execution_count": 79,
     "metadata": {},
     "output_type": "execute_result"
    }
   ],
   "source": [
    "np.sqrt(np.array([-1, 0, 1]), dtype=complex)"
   ]
  },
  {
   "cell_type": "markdown",
   "id": "4b89526e",
   "metadata": {},
   "source": [
    "### Order of array Data in Memory"
   ]
  },
  {
   "cell_type": "code",
   "execution_count": 80,
   "id": "bc59255e",
   "metadata": {},
   "outputs": [],
   "source": [
    "arr = np.array([[1, 2, 3, 4], [5, 4, 3, 6], [5, 4, 3, 6], [5, 9, 123, 3]])"
   ]
  },
  {
   "cell_type": "code",
   "execution_count": 81,
   "id": "2369d66b",
   "metadata": {},
   "outputs": [
    {
     "data": {
      "text/plain": [
       "array([[  1,   2,   3,   4],\n",
       "       [  5,   4,   3,   6],\n",
       "       [  5,   4,   3,   6],\n",
       "       [  5,   9, 123,   3]])"
      ]
     },
     "execution_count": 81,
     "metadata": {},
     "output_type": "execute_result"
    }
   ],
   "source": [
    "arr"
   ]
  },
  {
   "cell_type": "code",
   "execution_count": 84,
   "id": "60e7d9a8",
   "metadata": {},
   "outputs": [
    {
     "data": {
      "text/plain": [
       "(16, 4)"
      ]
     },
     "execution_count": 84,
     "metadata": {},
     "output_type": "execute_result"
    }
   ],
   "source": [
    "arr.strides # \"Strides is the factor by which the index\n",
    "            # for the corresponding axis is multiplied\n",
    "            # when calculating the memory offset (in bytes)\"\""
   ]
  },
  {
   "cell_type": "markdown",
   "id": "3498f52d",
   "metadata": {},
   "source": [
    "### Creating arrays in multiple ways"
   ]
  },
  {
   "cell_type": "code",
   "execution_count": 90,
   "id": "924a73a0",
   "metadata": {},
   "outputs": [],
   "source": [
    "# np.array - creates an arreay from a iterable\n",
    "iterable = list((1, 2, 3, 4, 5))\n",
    "data = np.array(iterable)"
   ]
  },
  {
   "cell_type": "code",
   "execution_count": 101,
   "id": "ac4e8026",
   "metadata": {},
   "outputs": [
    {
     "data": {
      "text/plain": [
       "'data.ndim = 1 | data.shape = (5,)'"
      ]
     },
     "execution_count": 101,
     "metadata": {},
     "output_type": "execute_result"
    }
   ],
   "source": [
    "f\"{data.ndim = } | {data.shape = }\""
   ]
  },
  {
   "cell_type": "code",
   "execution_count": 105,
   "id": "cdb34524",
   "metadata": {},
   "outputs": [
    {
     "data": {
      "text/plain": [
       "array([[0., 0., 0.],\n",
       "       [0., 0., 0.]])"
      ]
     },
     "execution_count": 105,
     "metadata": {},
     "output_type": "execute_result"
    }
   ],
   "source": [
    "# np.zeros and np.ones - creates an array and fills it with 0s and 1s\n",
    "np.zeros((2, 3))"
   ]
  },
  {
   "cell_type": "code",
   "execution_count": 106,
   "id": "19178e6d",
   "metadata": {},
   "outputs": [
    {
     "data": {
      "text/plain": [
       "array([[1., 1., 1.],\n",
       "       [1., 1., 1.]])"
      ]
     },
     "execution_count": 106,
     "metadata": {},
     "output_type": "execute_result"
    }
   ],
   "source": [
    "np.ones((2, 3))"
   ]
  },
  {
   "cell_type": "code",
   "execution_count": 107,
   "id": "0c0de7cd",
   "metadata": {},
   "outputs": [
    {
     "data": {
      "text/plain": [
       "array([1, 1, 1, 1], dtype=int8)"
      ]
     },
     "execution_count": 107,
     "metadata": {},
     "output_type": "execute_result"
    }
   ],
   "source": [
    "# The dtype can be specified\n",
    "np.ones(4, dtype=\"int8\")"
   ]
  },
  {
   "cell_type": "code",
   "execution_count": 109,
   "id": "70d24a1a",
   "metadata": {},
   "outputs": [
    {
     "data": {
      "text/plain": [
       "array([[10, 10, 10, 10, 10],\n",
       "       [10, 10, 10, 10, 10],\n",
       "       [10, 10, 10, 10, 10]], dtype=int8)"
      ]
     },
     "execution_count": 109,
     "metadata": {},
     "output_type": "execute_result"
    }
   ],
   "source": [
    "# np.full can create an array of specified dimensions and fill it with a specified value\n",
    "np.full((3, 5), 10, dtype=\"int8\")"
   ]
  },
  {
   "cell_type": "code",
   "execution_count": 118,
   "id": "1e0d8270",
   "metadata": {},
   "outputs": [
    {
     "data": {
      "text/plain": [
       "array([[1, 0, 0, 0],\n",
       "       [0, 3, 0, 0],\n",
       "       [0, 0, 4, 0],\n",
       "       [0, 0, 0, 2]])"
      ]
     },
     "execution_count": 118,
     "metadata": {},
     "output_type": "execute_result"
    }
   ],
   "source": [
    "# np.diag creates a diagonal array with its diagonal having specified values and 0 anywhere else.\n",
    "# Which diagonal is filled can also be specified. By default, k=0\n",
    "np.diag((1, 3, 4, 2))"
   ]
  },
  {
   "cell_type": "code",
   "execution_count": 121,
   "id": "6a17d4ac",
   "metadata": {},
   "outputs": [
    {
     "data": {
      "text/plain": [
       "array([[0, 0, 0, 0, 0],\n",
       "       [1, 0, 0, 0, 0],\n",
       "       [0, 3, 0, 0, 0],\n",
       "       [0, 0, 4, 0, 0],\n",
       "       [0, 0, 0, 2, 0]])"
      ]
     },
     "execution_count": 121,
     "metadata": {},
     "output_type": "execute_result"
    }
   ],
   "source": [
    "np.diag((1, 3, 4, 2), k=-1)"
   ]
  },
  {
   "cell_type": "code",
   "execution_count": 123,
   "id": "b015980a",
   "metadata": {},
   "outputs": [
    {
     "data": {
      "text/plain": [
       "array([0., 1., 2., 3., 4., 5., 6., 7., 8., 9.])"
      ]
     },
     "execution_count": 123,
     "metadata": {},
     "output_type": "execute_result"
    }
   ],
   "source": [
    "# np.arange(n, m, k) to create an array from m to n, in k incremental steps\n",
    "np.arange(0.0, 10, 1) # from 0.0 to 10 exclusive in steps of 1.0"
   ]
  },
  {
   "cell_type": "code",
   "execution_count": 126,
   "id": "558e25c5",
   "metadata": {},
   "outputs": [
    {
     "data": {
      "text/plain": [
       "array([ 0.,  1.,  2.,  3.,  4.,  5.,  6.,  7.,  8.,  9., 10.])"
      ]
     },
     "execution_count": 126,
     "metadata": {},
     "output_type": "execute_result"
    }
   ],
   "source": [
    "# np.linspace(j, k, n) - creates an array with n values from j to k, evenly spaced\n",
    "np.linspace(0, 10, 11) # "
   ]
  },
  {
   "cell_type": "code",
   "execution_count": 129,
   "id": "12c406cc",
   "metadata": {},
   "outputs": [
    {
     "data": {
      "text/plain": [
       "array([1.00000000e+00, 1.29154967e+01, 1.66810054e+02, 2.15443469e+03,\n",
       "       2.78255940e+04, 3.59381366e+05, 4.64158883e+06, 5.99484250e+07,\n",
       "       7.74263683e+08, 1.00000000e+10])"
      ]
     },
     "execution_count": 129,
     "metadata": {},
     "output_type": "execute_result"
    }
   ],
   "source": [
    "# np.logspace(j, k, n) - similar to np.linspace, but creates n values from j to k ligarithmically distributed\n",
    "np.logspace(0, 10, 10)"
   ]
  },
  {
   "cell_type": "markdown",
   "id": "db1cbef0",
   "metadata": {},
   "source": [
    "**Continuar na página**: 55 - meshgrids"
   ]
  }
 ],
 "metadata": {
  "kernelspec": {
   "display_name": "Python 3 (ipykernel)",
   "language": "python",
   "name": "python3"
  },
  "language_info": {
   "codemirror_mode": {
    "name": "ipython",
    "version": 3
   },
   "file_extension": ".py",
   "mimetype": "text/x-python",
   "name": "python",
   "nbconvert_exporter": "python",
   "pygments_lexer": "ipython3",
   "version": "3.9.6"
  }
 },
 "nbformat": 4,
 "nbformat_minor": 5
}
