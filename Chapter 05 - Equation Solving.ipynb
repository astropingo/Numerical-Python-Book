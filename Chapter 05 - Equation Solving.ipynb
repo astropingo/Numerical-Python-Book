{
 "cells": [
  {
   "cell_type": "code",
   "execution_count": 1,
   "id": "26785d05",
   "metadata": {},
   "outputs": [
    {
     "ename": "NameError",
     "evalue": "name 'matplotlib' is not defined",
     "output_type": "error",
     "traceback": [
      "\u001b[1;31m---------------------------------------------------------------------------\u001b[0m",
      "\u001b[1;31mNameError\u001b[0m                                 Traceback (most recent call last)",
      "\u001b[1;32m~\\AppData\\Local\\Temp/ipykernel_10168/573259146.py\u001b[0m in \u001b[0;36m<module>\u001b[1;34m\u001b[0m\n\u001b[0;32m      5\u001b[0m \u001b[1;32mimport\u001b[0m \u001b[0mmatplotlib\u001b[0m\u001b[1;33m.\u001b[0m\u001b[0mpyplot\u001b[0m \u001b[1;32mas\u001b[0m \u001b[0mplt\u001b[0m\u001b[1;33m\u001b[0m\u001b[1;33m\u001b[0m\u001b[0m\n\u001b[0;32m      6\u001b[0m \u001b[1;33m\u001b[0m\u001b[0m\n\u001b[1;32m----> 7\u001b[1;33m \u001b[0mmatplotlib\u001b[0m\u001b[1;33m.\u001b[0m\u001b[0mrcParams\u001b[0m\u001b[1;33m[\u001b[0m\u001b[1;34m'mathtext.fontset'\u001b[0m\u001b[1;33m]\u001b[0m \u001b[1;33m=\u001b[0m \u001b[1;34m'stix'\u001b[0m\u001b[1;33m\u001b[0m\u001b[1;33m\u001b[0m\u001b[0m\n\u001b[0m\u001b[0;32m      8\u001b[0m \u001b[0mmatplotlib\u001b[0m\u001b[1;33m.\u001b[0m\u001b[0mrcParams\u001b[0m\u001b[1;33m[\u001b[0m\u001b[1;34m'font.family'\u001b[0m\u001b[1;33m]\u001b[0m \u001b[1;33m=\u001b[0m \u001b[1;34m'serif'\u001b[0m\u001b[1;33m\u001b[0m\u001b[1;33m\u001b[0m\u001b[0m\n\u001b[0;32m      9\u001b[0m \u001b[0mmatplotlib\u001b[0m\u001b[1;33m.\u001b[0m\u001b[0mrcParams\u001b[0m\u001b[1;33m[\u001b[0m\u001b[1;34m'font.sans-serif'\u001b[0m\u001b[1;33m]\u001b[0m \u001b[1;33m=\u001b[0m \u001b[1;34m'stix'\u001b[0m\u001b[1;33m\u001b[0m\u001b[1;33m\u001b[0m\u001b[0m\n",
      "\u001b[1;31mNameError\u001b[0m: name 'matplotlib' is not defined"
     ]
    }
   ],
   "source": [
    "from scipy import linalg as la\n",
    "from scipy import optimize\n",
    "import sympy as sp\n",
    "import numpy as np\n",
    "import matplotlib.pyplot as plt\n",
    "\n",
    "matplotlib.rcParams['mathtext.fontset'] = 'stix'\n",
    "matplotlib.rcParams['font.family'] = 'serif'\n",
    "matplotlib.rcParams['font.sans-serif'] = 'stix'\n",
    "\n",
    "# sympy está dando um aviso de código depreciado. Para fins de aprendizagem, estas linhas abaixo omitem os erros.\n",
    "import warnings\n",
    "warnings.filterwarnings(\"ignore\", category=UserWarning)\n",
    "sp.init_printing()"
   ]
  },
  {
   "cell_type": "code",
   "execution_count": null,
   "id": "cd2d485a",
   "metadata": {},
   "outputs": [],
   "source": [
    "A = sp.Matrix([[2, 3], [5, 4]])\n",
    "b = sp.Matrix([4, 3]) # Does the book not use it here?"
   ]
  },
  {
   "cell_type": "code",
   "execution_count": null,
   "id": "9d3eb6de",
   "metadata": {},
   "outputs": [],
   "source": [
    "A.rank()"
   ]
  },
  {
   "cell_type": "code",
   "execution_count": null,
   "id": "93b9af93",
   "metadata": {},
   "outputs": [],
   "source": [
    "A.condition_number()\n",
    "# The condition number is how much the output of a function F: A->B changes for small changes in the input value"
   ]
  },
  {
   "cell_type": "code",
   "execution_count": null,
   "id": "9aef8653",
   "metadata": {},
   "outputs": [],
   "source": [
    "sp.N(_)\n",
    "# \"_\" is the last output. sp.N(exp) calculates the numerical value of an expression exp"
   ]
  },
  {
   "cell_type": "code",
   "execution_count": null,
   "id": "9bdf6a46",
   "metadata": {},
   "outputs": [],
   "source": [
    "A.norm()"
   ]
  },
  {
   "cell_type": "code",
   "execution_count": null,
   "id": "15348ea5",
   "metadata": {},
   "outputs": [],
   "source": [
    "# The same cam be performed with numpy arrays and scipy:\n",
    "A = np.array([[2, 3], [5, 4]])\n",
    "b = np.array([4, 3])\n",
    "np.linalg.matrix_rank(A)"
   ]
  },
  {
   "cell_type": "code",
   "execution_count": null,
   "id": "e2133e89",
   "metadata": {},
   "outputs": [],
   "source": [
    "np.linalg.cond(A)"
   ]
  },
  {
   "cell_type": "code",
   "execution_count": null,
   "id": "62bae1ce",
   "metadata": {},
   "outputs": [],
   "source": [
    "np.linalg.norm(A)"
   ]
  },
  {
   "cell_type": "markdown",
   "id": "ffa7fc10",
   "metadata": {},
   "source": [
    "### LowerUpper (LU) Decomposition/Factorization of a Matrix\n",
    "\n",
    "A = LU, where L is the lower triangle matrix and U is the upper one.\n",
    "If we want to solve Ax=b, we can use LU decomposition, which is computationally efficient:\n",
    "\n",
    "    A = LU\n",
    "    Ly = b\n",
    "    Ux = y"
   ]
  },
  {
   "cell_type": "code",
   "execution_count": null,
   "id": "5ac0a47c",
   "metadata": {},
   "outputs": [],
   "source": [
    "A = sp.Matrix([[2, 3], [5, 4]])\n",
    "b = sp.Matrix([4, 3])\n",
    "L, U, _ = A.LUdecomposition()"
   ]
  },
  {
   "cell_type": "code",
   "execution_count": null,
   "id": "59074e77",
   "metadata": {},
   "outputs": [],
   "source": [
    "L"
   ]
  },
  {
   "cell_type": "code",
   "execution_count": null,
   "id": "2b45ee00",
   "metadata": {},
   "outputs": [],
   "source": [
    "U"
   ]
  },
  {
   "cell_type": "code",
   "execution_count": null,
   "id": "d45a56af",
   "metadata": {},
   "outputs": [],
   "source": [
    "L * U"
   ]
  },
  {
   "cell_type": "code",
   "execution_count": null,
   "id": "31f553e4",
   "metadata": {},
   "outputs": [],
   "source": [
    "A"
   ]
  },
  {
   "cell_type": "code",
   "execution_count": null,
   "id": "2c940a07",
   "metadata": {},
   "outputs": [],
   "source": [
    "x = A.solve(b)"
   ]
  },
  {
   "cell_type": "code",
   "execution_count": null,
   "id": "77da24ea",
   "metadata": {},
   "outputs": [],
   "source": [
    "x"
   ]
  },
  {
   "cell_type": "code",
   "execution_count": null,
   "id": "ca3f815c",
   "metadata": {},
   "outputs": [],
   "source": [
    "x = A.LUsolve(b)"
   ]
  },
  {
   "cell_type": "code",
   "execution_count": null,
   "id": "d4b62981",
   "metadata": {},
   "outputs": [],
   "source": [
    "x"
   ]
  },
  {
   "cell_type": "markdown",
   "id": "855601ce",
   "metadata": {},
   "source": [
    "Permutation matrix, P:\n",
    "\n",
    "A = PLU"
   ]
  },
  {
   "cell_type": "code",
   "execution_count": null,
   "id": "91d0ae7f",
   "metadata": {},
   "outputs": [],
   "source": [
    "A = np.array([[2,3], [5,4]])\n",
    "b = np.array([4, 3])\n",
    "P, L, U = la.lu(A)"
   ]
  },
  {
   "cell_type": "code",
   "execution_count": null,
   "id": "3ceebbf7",
   "metadata": {},
   "outputs": [],
   "source": [
    "P"
   ]
  },
  {
   "cell_type": "code",
   "execution_count": null,
   "id": "6b01efd6",
   "metadata": {},
   "outputs": [],
   "source": [
    "L"
   ]
  },
  {
   "cell_type": "code",
   "execution_count": null,
   "id": "a055e58c",
   "metadata": {},
   "outputs": [],
   "source": [
    "U"
   ]
  },
  {
   "cell_type": "code",
   "execution_count": null,
   "id": "ffcdcadf",
   "metadata": {},
   "outputs": [],
   "source": [
    "P.dot(L.dot(U))"
   ]
  },
  {
   "cell_type": "code",
   "execution_count": null,
   "id": "386166df",
   "metadata": {},
   "outputs": [],
   "source": [
    "# depending on the values, it could or not be solved symbolically."
   ]
  },
  {
   "cell_type": "code",
   "execution_count": null,
   "id": "3317f2c5",
   "metadata": {},
   "outputs": [],
   "source": [
    "p = sp.symbols(\"p\", positive=True)\n",
    "A = sp.Matrix([[1, sp.sqrt(p)], [1, 1/sp.sqrt(p)]])\n",
    "b = sp.Matrix([1, 2])"
   ]
  },
  {
   "cell_type": "code",
   "execution_count": null,
   "id": "614887e2",
   "metadata": {},
   "outputs": [],
   "source": [
    "A"
   ]
  },
  {
   "cell_type": "code",
   "execution_count": null,
   "id": "9ef384ab",
   "metadata": {},
   "outputs": [],
   "source": [
    "x = A.solve(b)"
   ]
  },
  {
   "cell_type": "code",
   "execution_count": null,
   "id": "a4661dad",
   "metadata": {},
   "outputs": [],
   "source": [
    "x"
   ]
  },
  {
   "cell_type": "markdown",
   "id": "79ef31be",
   "metadata": {},
   "source": [
    "Graphing the error for values near 1:"
   ]
  },
  {
   "cell_type": "code",
   "execution_count": null,
   "id": "e75c72c7",
   "metadata": {},
   "outputs": [],
   "source": [
    "p = sp.symbols(\"p\", positive=True)\n",
    "A = sp.Matrix([[1, sp.sqrt(p)],[1, 1/sp.sqrt(p)]])\n",
    "b = sp.Matrix([1, 2])"
   ]
  },
  {
   "cell_type": "code",
   "execution_count": null,
   "id": "f3f629ba",
   "metadata": {},
   "outputs": [],
   "source": [
    "# Solving symbolically\n",
    "x_sym_sol = A.solve(b)\n",
    "Acond = A.condition_number().simplify()"
   ]
  },
  {
   "cell_type": "code",
   "execution_count": null,
   "id": "5e5eaac4",
   "metadata": {},
   "outputs": [],
   "source": [
    "Acond"
   ]
  },
  {
   "cell_type": "code",
   "execution_count": null,
   "id": "2a586460",
   "metadata": {},
   "outputs": [],
   "source": [
    "# Numberical problem specification\n",
    "AA = lambda p: np.array([[1, np.sqrt(p)], [1, 1/np.sqrt(p)]])\n",
    "bb = np.array([1, 2])\n",
    "x_num_sol = lambda p: np.linalg.solve(AA(p), bb)"
   ]
  },
  {
   "cell_type": "code",
   "execution_count": null,
   "id": "98260a7b",
   "metadata": {},
   "outputs": [],
   "source": [
    "# Graphing both symbolic (exact) and numerical results\n",
    "\n",
    "fig, axes = plt.subplots(1, 2, figsize=(12, 4))\n",
    "p_vec = np.linspace(0.9, 1.1, 200)\n",
    "\n",
    "for n in range(2):\n",
    "    x_sym = np.array([x_sym_sol[n].subs(p, pp).evalf() for pp in p_vec])\n",
    "    x_num = np.array([x_num_sol(pp)[n] for pp in p_vec])\n",
    "    axes[0].plot(p_vec, (x_num - x_sym) / x_sym, \"tab:blue\", lw=1)\n",
    "                 \n",
    "axes[0].set_title(\"Error in solution\\n(Numerical - Symbolic) / Symbolic\")\n",
    "axes[0].set_xlabel(r\"$r$\", fontsize=18)\n",
    "\n",
    "axes[1].plot(p_vec, [Acond.subs(p, pp).evalf() for pp in p_vec])\n",
    "axes[1].set_title(\"Condition Number\")\n",
    "axes[1].set_xlabel(r\"$p$\", fontsize=18)\n"
   ]
  },
  {
   "cell_type": "markdown",
   "id": "a0ef105d",
   "metadata": {},
   "source": [
    "### Retangular Systems"
   ]
  },
  {
   "cell_type": "code",
   "execution_count": null,
   "id": "0e2472e8",
   "metadata": {},
   "outputs": [],
   "source": [
    "x_vars = sp.symbols(\"x_1 x_2 x_3\")\n",
    "A = sp.Matrix([[1, 2, 3], [4, 5, 6]])\n",
    "x = sp.Matrix(x_vars)\n",
    "b = sp.Matrix([7, 8])"
   ]
  },
  {
   "cell_type": "code",
   "execution_count": null,
   "id": "07740852",
   "metadata": {},
   "outputs": [],
   "source": [
    "A*x"
   ]
  },
  {
   "cell_type": "code",
   "execution_count": null,
   "id": "24fa2fb1",
   "metadata": {},
   "outputs": [],
   "source": [
    "x"
   ]
  },
  {
   "cell_type": "code",
   "execution_count": null,
   "id": "ae5035ab",
   "metadata": {},
   "outputs": [],
   "source": [
    "A*x"
   ]
  },
  {
   "cell_type": "code",
   "execution_count": null,
   "id": "83dbc760",
   "metadata": {},
   "outputs": [],
   "source": [
    "sp.solve(A*x - b, x_vars)"
   ]
  },
  {
   "cell_type": "markdown",
   "id": "663ff0c2",
   "metadata": {},
   "source": [
    "### Retangular systems and least square approximations"
   ]
  },
  {
   "cell_type": "code",
   "execution_count": null,
   "id": "b98853ae",
   "metadata": {},
   "outputs": [],
   "source": [
    "x = np.linspace(-1, 1, 100)\n",
    "a, b, c = 1, 2, 3\n",
    "y_exact = a + b * x + c * x ** 2 # A non linear equation for x\n",
    "\n",
    "# Noise data - adding random values to the exact value\n",
    "m = 100\n",
    "X = 1 - 2 * np.random.rand(m)\n",
    "Y = a + b * X + c * X ** 2 + np.random.randn(m)\n",
    "\n",
    "# fitting the simulated data to the model, using the linear least square\n",
    "A = np.vstack([X ** 0, X ** 1, X ** 2]) # see np.vander?\n",
    "sol, r, rank, sv = la.lstsq(A.T, Y)\n",
    "\n",
    "y_fit = sol[0] + sol[1] * x + sol[2] * x ** 2\n",
    "fig, ax = plt.subplots(figsize=(12, 4))\n",
    "\n",
    "ax.plot(X, Y, \"go\", alpha=0.5, label=\"Simulated data\")\n",
    "ax.plot(x, y_exact, \"k\", lw=2, label=\"True value $y = 1 + 2x + 3x^2$\")\n",
    "ax.plot(x, y_fit, \"b\", lw=2, label=\"Least square fit\")\n",
    "ax.set_xlabel(r\"$x$\", fontsize=18)\n",
    "ax.set_ylabel(r\"$y$\", fontsize=18)\n",
    "ax.legend(loc=2)"
   ]
  },
  {
   "cell_type": "markdown",
   "id": "4ff5dabe",
   "metadata": {},
   "source": [
    "Overfitting can happen if the approximation fits not only the underlying model but also the noise in the data"
   ]
  },
  {
   "cell_type": "code",
   "execution_count": null,
   "id": "060c0127",
   "metadata": {},
   "outputs": [],
   "source": [
    "# 1st order polynomial\n",
    "A = np.vstack([X ** n for n in range(2)])\n",
    "sol, r, rank, sv = la.lstsq(A.T, Y)\n",
    "y_fit1 = sum([s * x ** n for n, s in enumerate(sol)])\n",
    "\n",
    "# 15th order polynomial\n",
    "A = np.vstack([X ** n for n in range(16)])\n",
    "sol, r, rank, sv = la.lstsq(A.T, Y)\n",
    "y_fit15 = sum([s * x ** n for n, s in enumerate(sol)])\n",
    "\n",
    "fig, ax = plt.subplots(figsize=(12, 4))\n",
    "ax.plot(X, Y, \"go\", alpha=0.5, label=\"Simulated data\")\n",
    "ax.plot(x, y_exact, \"k\", lw=2, label=\"True value of $y = 1 + 2x + 3x^2$\")\n",
    "ax.plot(x, y_fit1, \"b\", lw=2, label=\"1st order least square fit\")\n",
    "ax.plot(x, y_fit15, \"m\", lw=2, label=\"15th order least square fit\")\n",
    "ax.set_xlabel(\"$x$\", fontsize=18)\n",
    "ax.set_ylabel(\"$y$\", fontsize=18)\n",
    "ax.legend(loc=2)"
   ]
  },
  {
   "cell_type": "markdown",
   "id": "8a85296d",
   "metadata": {},
   "source": [
    "### Eingenvalues"
   ]
  },
  {
   "cell_type": "code",
   "execution_count": null,
   "id": "fc9bdc11",
   "metadata": {},
   "outputs": [],
   "source": [
    "eps, delta = sp.symbols(\"epsilon, Delta\")\n",
    "H = sp.Matrix([[eps, delta], [delta, -eps]])"
   ]
  },
  {
   "cell_type": "code",
   "execution_count": null,
   "id": "08944902",
   "metadata": {},
   "outputs": [],
   "source": [
    "H"
   ]
  },
  {
   "cell_type": "code",
   "execution_count": null,
   "id": "b3d637b8",
   "metadata": {},
   "outputs": [],
   "source": [
    "H.eigenvals()"
   ]
  },
  {
   "cell_type": "code",
   "execution_count": null,
   "id": "2c4631b1",
   "metadata": {},
   "outputs": [],
   "source": [
    "H.eigenvects()"
   ]
  },
  {
   "cell_type": "code",
   "execution_count": null,
   "id": "566a81fa",
   "metadata": {},
   "outputs": [],
   "source": [
    "# Checking if both eingevects are orthogonal\n",
    "(eval1, _, evec1), (eval2, _, evec2) = H.eigenvects()\n",
    "sp.simplify(evec1[0].T * evec2[0])"
   ]
  },
  {
   "cell_type": "code",
   "execution_count": null,
   "id": "7da4c1eb",
   "metadata": {},
   "outputs": [],
   "source": [
    "A = np.array([[1, 3, 5], [3, 5, 3], [5, 3, 9]])\n",
    "evals, evecs = la.eig(A)"
   ]
  },
  {
   "cell_type": "code",
   "execution_count": null,
   "id": "00a4b0c5",
   "metadata": {},
   "outputs": [],
   "source": [
    "evals"
   ]
  },
  {
   "cell_type": "code",
   "execution_count": null,
   "id": "511f0854",
   "metadata": {},
   "outputs": [],
   "source": [
    "evecs"
   ]
  },
  {
   "cell_type": "code",
   "execution_count": null,
   "id": "7107eb42",
   "metadata": {},
   "outputs": [],
   "source": [
    "la.eigvalsh(A)"
   ]
  },
  {
   "cell_type": "markdown",
   "id": "2002b2b6",
   "metadata": {},
   "source": [
    "### Nonlinear equations, univariate and multivariate ones"
   ]
  },
  {
   "cell_type": "code",
   "execution_count": null,
   "id": "4b5e508e",
   "metadata": {},
   "outputs": [],
   "source": [
    "x, a, b, c = sp.symbols(\"x, a, b, c\")\n",
    "sp.solve(a + b*x + c*x**2, x)"
   ]
  },
  {
   "cell_type": "code",
   "execution_count": null,
   "id": "2512e32d",
   "metadata": {},
   "outputs": [],
   "source": [
    "sp.solve(a * sp.cos(x) - b * sp.sin(x), x)"
   ]
  },
  {
   "cell_type": "code",
   "execution_count": null,
   "id": "5dfef67d",
   "metadata": {},
   "outputs": [],
   "source": [
    "sp.solve(sp.sin(x) - x, x)"
   ]
  },
  {
   "cell_type": "code",
   "execution_count": 12,
   "id": "a8018031",
   "metadata": {},
   "outputs": [
    {
     "data": {
      "image/png": "[encoded data removed]",
      "text/plain": [
       "<Figure size 864x216 with 4 Axes>"
      ]
     },
     "metadata": {
      "needs_background": "light"
     },
     "output_type": "display_data"
    }
   ],
   "source": [
    "# exemplifying equations with 1, 2 or multiple roots\n",
    "x = np.linspace(-2, 2, 1000)\n",
    "f1 = x** 2 - x - 1\n",
    "f2 = x ** 3 - 3 * np.sin(x)\n",
    "f3 = np.exp(x) - 2\n",
    "f4 = 1 - x**2 + np.sin(50/(1+x**2))\n",
    "\n",
    "# plotting\n",
    "fig, axes = plt.subplots(1, 4, figsize=(12, 3), sharey=True)\n",
    "\n",
    "for n, f in enumerate([f1, f2, f3, f4]):\n",
    "    axes[n].plot(x, f, lw=1)\n",
    "    axes[n].axhline(0, ls=\":\", color=\"k\")\n",
    "    axes[n].set_ylim(-5, 5)\n",
    "    axes[n].set_xlim(-2, 2)\n",
    "    axes[n].set_xticks(list(range(-2, 3, 1)))\n",
    "    axes[n].set_xlabel(r\"$x$\", fontsize=18)"
   ]
  },
  {
   "cell_type": "markdown",
   "id": "99d69e2f",
   "metadata": {},
   "source": [
    "Continue on page 202"
   ]
  },
  {
   "cell_type": "code",
   "execution_count": null,
   "id": "322006b5",
   "metadata": {},
   "outputs": [],
   "source": []
  }
 ],
 "metadata": {
  "kernelspec": {
   "display_name": "Python 3 (ipykernel)",
   "language": "python",
   "name": "python3"
  },
  "language_info": {
   "codemirror_mode": {
    "name": "ipython",
    "version": 3
   },
   "file_extension": ".py",
   "mimetype": "text/x-python",
   "name": "python",
   "nbconvert_exporter": "python",
   "pygments_lexer": "ipython3",
   "version": "3.9.6"
  }
 },
 "nbformat": 4,
 "nbformat_minor": 5
}
