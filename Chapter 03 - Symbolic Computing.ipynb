{
 "cells": [
  {
   "cell_type": "markdown",
   "id": "0a73222b",
   "metadata": {},
   "source": [
    "# Symbolic Computing with SymPy"
   ]
  },
  {
   "cell_type": "code",
   "execution_count": 1,
   "id": "361cf5a6",
   "metadata": {},
   "outputs": [],
   "source": [
    "import sympy\n",
    "sympy.init_printing()\n",
    "\n",
    "# sympy está dando um aviso de código depreciado. Para fins de aprendizagem, estas linhas abaixo omitem os erros.\n",
    "import warnings\n",
    "warnings.filterwarnings(\"ignore\", category=UserWarning)"
   ]
  },
  {
   "cell_type": "code",
   "execution_count": 2,
   "id": "b0c3fc11",
   "metadata": {},
   "outputs": [
    {
     "data": {
      "image/png": "[encoded data removed]",
      "text/latex": [
       "$\\displaystyle \\pi^{2}$"
      ],
      "text/plain": [
       " 2\n",
       "π "
      ]
     },
     "execution_count": 2,
     "metadata": {},
     "output_type": "execute_result"
    }
   ],
   "source": [
    "sympy.pi ** 2"
   ]
  },
  {
   "cell_type": "code",
   "execution_count": 3,
   "id": "89dceda5",
   "metadata": {},
   "outputs": [],
   "source": [
    "# Creating symbols\n",
    "x = sympy.Symbol(\"x\")"
   ]
  },
  {
   "cell_type": "code",
   "execution_count": 4,
   "id": "f43d01dc",
   "metadata": {},
   "outputs": [
    {
     "data": {
      "image/png": "[encoded data removed]",
      "text/latex": [
       "$\\displaystyle x$"
      ],
      "text/plain": [
       "x"
      ]
     },
     "execution_count": 4,
     "metadata": {},
     "output_type": "execute_result"
    }
   ],
   "source": [
    "x"
   ]
  },
  {
   "cell_type": "code",
   "execution_count": 5,
   "id": "884a2d26",
   "metadata": {},
   "outputs": [
    {
     "data": {
      "image/png": "[encoded data removed]",
      "text/latex": [
       "$\\displaystyle 2 x$"
      ],
      "text/plain": [
       "2⋅x"
      ]
     },
     "execution_count": 5,
     "metadata": {},
     "output_type": "execute_result"
    }
   ],
   "source": [
    "x * 2"
   ]
  },
  {
   "cell_type": "code",
   "execution_count": 6,
   "id": "bde5c3c1",
   "metadata": {},
   "outputs": [],
   "source": [
    "# Creating symbols with specified types\n",
    "y = sympy.Symbol(\"y\", real=True)"
   ]
  },
  {
   "cell_type": "code",
   "execution_count": 7,
   "id": "9a66cb20",
   "metadata": {},
   "outputs": [
    {
     "data": {
      "text/plain": [
       "(None, True)"
      ]
     },
     "execution_count": 7,
     "metadata": {},
     "output_type": "execute_result"
    }
   ],
   "source": [
    "(x.is_real, y.is_real)"
   ]
  },
  {
   "cell_type": "code",
   "execution_count": 8,
   "id": "5c7225da",
   "metadata": {},
   "outputs": [
    {
     "data": {
      "text/plain": [
       "False"
      ]
     },
     "execution_count": 8,
     "metadata": {},
     "output_type": "execute_result"
    }
   ],
   "source": [
    "y.is_imaginary"
   ]
  },
  {
   "cell_type": "markdown",
   "id": "d1ceeb02",
   "metadata": {},
   "source": [
    "### Symbol attributes can influence the symbolic representation\n",
    "If a certain attribute is giving to a symbol, some representations might or might not be possible. Check the example below:"
   ]
  },
  {
   "cell_type": "code",
   "execution_count": 9,
   "id": "5a04340c",
   "metadata": {},
   "outputs": [],
   "source": [
    "y = sympy.Symbol(\"y\")\n",
    "z = sympy.Symbol(\"z\", positive=True)"
   ]
  },
  {
   "cell_type": "code",
   "execution_count": 10,
   "id": "b272618a",
   "metadata": {},
   "outputs": [
    {
     "data": {
      "image/png": "[encoded data removed]",
      "text/latex": [
       "$\\displaystyle \\sqrt{y^{2}}$"
      ],
      "text/plain": [
       "   ____\n",
       "  ╱  2 \n",
       "╲╱  y  "
      ]
     },
     "execution_count": 10,
     "metadata": {},
     "output_type": "execute_result"
    }
   ],
   "source": [
    "sympy.sqrt(y ** 2)"
   ]
  },
  {
   "cell_type": "code",
   "execution_count": 11,
   "id": "a3da5f6c",
   "metadata": {},
   "outputs": [
    {
     "data": {
      "image/png": "[encoded data removed]",
      "text/latex": [
       "$\\displaystyle z$"
      ],
      "text/plain": [
       "z"
      ]
     },
     "execution_count": 11,
     "metadata": {},
     "output_type": "execute_result"
    }
   ],
   "source": [
    "sympy.sqrt(z ** 2)"
   ]
  },
  {
   "cell_type": "markdown",
   "id": "1387b03e",
   "metadata": {},
   "source": [
    "Since y is not set as positive nor real or complex, that is, it can be negative and not complex, sympy is unable to reduce the square root. The opposite is true for z, since it is a positive value and, therefore, can be simplified. Other specifications can also be made, like asserting the symbol is even or odd."
   ]
  },
  {
   "cell_type": "code",
   "execution_count": 12,
   "id": "cd4cbee2",
   "metadata": {},
   "outputs": [],
   "source": [
    "n1 = sympy.Symbol(\"n\")\n",
    "n2 = sympy.Symbol(\"n\", integer=True)\n",
    "n3 = sympy.Symbol(\"n\", odd=True)"
   ]
  },
  {
   "cell_type": "code",
   "execution_count": 13,
   "id": "2c20b19f",
   "metadata": {},
   "outputs": [
    {
     "data": {
      "image/png": "[encoded data removed]",
      "text/latex": [
       "$\\displaystyle \\cos{\\left(\\pi n \\right)}$"
      ],
      "text/plain": [
       "cos(π⋅n)"
      ]
     },
     "execution_count": 13,
     "metadata": {},
     "output_type": "execute_result"
    }
   ],
   "source": [
    "sympy.cos(n1 * sympy.pi)"
   ]
  },
  {
   "cell_type": "code",
   "execution_count": 14,
   "id": "c88d47ce",
   "metadata": {},
   "outputs": [
    {
     "data": {
      "image/png": "[encoded data removed]",
      "text/latex": [
       "$\\displaystyle \\left(-1\\right)^{n}$"
      ],
      "text/plain": [
       "    n\n",
       "(-1) "
      ]
     },
     "execution_count": 14,
     "metadata": {},
     "output_type": "execute_result"
    }
   ],
   "source": [
    "sympy.cos(n2 * sympy.pi)"
   ]
  },
  {
   "cell_type": "code",
   "execution_count": 15,
   "id": "ebf00701",
   "metadata": {},
   "outputs": [
    {
     "data": {
      "image/png": "[encoded data removed]",
      "text/latex": [
       "$\\displaystyle -1$"
      ],
      "text/plain": [
       "-1"
      ]
     },
     "execution_count": 15,
     "metadata": {},
     "output_type": "execute_result"
    }
   ],
   "source": [
    "sympy.cos(n3 * sympy.pi)"
   ]
  },
  {
   "cell_type": "code",
   "execution_count": 16,
   "id": "e0ea4484",
   "metadata": {},
   "outputs": [],
   "source": [
    "a, b, c = sympy.symbols(\"a, b, c\", negative=True)\n",
    "d, e, f = sympy.symbols(\"d, e, f\", positive=True)"
   ]
  },
  {
   "cell_type": "code",
   "execution_count": 17,
   "id": "1a174dec",
   "metadata": {},
   "outputs": [
    {
     "data": {
      "text/plain": [
       "False"
      ]
     },
     "execution_count": 17,
     "metadata": {},
     "output_type": "execute_result"
    }
   ],
   "source": [
    "(a + b).is_positive"
   ]
  },
  {
   "cell_type": "code",
   "execution_count": 18,
   "id": "b935ea50",
   "metadata": {},
   "outputs": [
    {
     "data": {
      "text/plain": [
       "True"
      ]
     },
     "execution_count": 18,
     "metadata": {},
     "output_type": "execute_result"
    }
   ],
   "source": [
    "(d + e).is_positive"
   ]
  },
  {
   "cell_type": "markdown",
   "id": "7b97a2c6",
   "metadata": {},
   "source": [
    "### Integer and floating representations\n",
    "To be compatible with the other symbols, sharing the same methods and attributes, sympy has a class for integers and float numbers. sympy.Integer and sympy.Float are the name of these classes. It is also possible to use the method sympify:"
   ]
  },
  {
   "cell_type": "code",
   "execution_count": 19,
   "id": "c9cbbbf8",
   "metadata": {},
   "outputs": [],
   "source": [
    "i = sympy.Integer(10)"
   ]
  },
  {
   "cell_type": "code",
   "execution_count": 20,
   "id": "70123ed7",
   "metadata": {},
   "outputs": [],
   "source": [
    "j = sympy.Float(10.3)"
   ]
  },
  {
   "cell_type": "code",
   "execution_count": 21,
   "id": "ba36a40b",
   "metadata": {},
   "outputs": [
    {
     "data": {
      "text/plain": [
       "(True, False)"
      ]
     },
     "execution_count": 21,
     "metadata": {},
     "output_type": "execute_result"
    }
   ],
   "source": [
    "((i + j).is_real, (i + j).is_imaginary)"
   ]
  },
  {
   "cell_type": "code",
   "execution_count": 22,
   "id": "df9bc194",
   "metadata": {},
   "outputs": [],
   "source": [
    "k = sympy.sympify(32)"
   ]
  },
  {
   "cell_type": "code",
   "execution_count": 23,
   "id": "0ea27290",
   "metadata": {},
   "outputs": [
    {
     "data": {
      "image/png": "[encoded data removed]",
      "text/latex": [
       "$\\displaystyle 32$"
      ],
      "text/plain": [
       "32"
      ]
     },
     "execution_count": 23,
     "metadata": {},
     "output_type": "execute_result"
    }
   ],
   "source": [
    "k"
   ]
  },
  {
   "cell_type": "code",
   "execution_count": 24,
   "id": "64b1c759",
   "metadata": {},
   "outputs": [
    {
     "data": {
      "image/png": "[encoded data removed]",
      "text/latex": [
       "$\\displaystyle f \\left(\\frac{32 b}{a + e}\\right)^{c}$"
      ],
      "text/plain": [
       "         c\n",
       "  ⎛ 32⋅b⎞ \n",
       "f⋅⎜─────⎟ \n",
       "  ⎝a + e⎠ "
      ]
     },
     "execution_count": 24,
     "metadata": {},
     "output_type": "execute_result"
    }
   ],
   "source": [
    "f * (k * b / (e + a)) ** c"
   ]
  },
  {
   "cell_type": "code",
   "execution_count": 25,
   "id": "f816c757",
   "metadata": {},
   "outputs": [
    {
     "data": {
      "image/png": "[encoded data removed]",
      "text/latex": [
       "$\\displaystyle 93326215443944152681699238856266700490715968264381621468592963895217599993229915608941463976156518286253697920827223758251185210916864000000000000000000000000$"
      ],
      "text/plain": [
       "933262154439441526816992388562667004907159682643816214685929638952175999932299\n",
       "156089414639761565182862536979208272237582511852109168640000000000000000000000\n",
       "00"
      ]
     },
     "execution_count": 25,
     "metadata": {},
     "output_type": "execute_result"
    }
   ],
   "source": [
    "sympy.factorial(100)"
   ]
  },
  {
   "cell_type": "markdown",
   "id": "47c975c0",
   "metadata": {},
   "source": [
    "### Float and float precision\n",
    "Sympy will treat floats with an arbitrary number of decimals. If it is converted from python float number, however, it will have a precision error due to the limitations of float numbers. Instead, if the symbol is created with an exact string representation of that number, it will be exact:"
   ]
  },
  {
   "cell_type": "code",
   "execution_count": 26,
   "id": "6481c0a4",
   "metadata": {},
   "outputs": [
    {
     "data": {
      "image/png": "[encoded data removed]",
      "text/latex": [
       "$\\displaystyle 0.2999999999999999888977698$"
      ],
      "text/plain": [
       "0.2999999999999999888977698"
      ]
     },
     "execution_count": 26,
     "metadata": {},
     "output_type": "execute_result"
    }
   ],
   "source": [
    "sympy.Float(0.3, 25) # Creates a symbolic representation of the python's float 0.3 (with its rounding errors), with 25 decimals"
   ]
  },
  {
   "cell_type": "code",
   "execution_count": 27,
   "id": "218fda30",
   "metadata": {},
   "outputs": [
    {
     "data": {
      "image/png": "[encoded data removed]",
      "text/latex": [
       "$\\displaystyle 0.3$"
      ],
      "text/plain": [
       "0.3000000000000000000000000"
      ]
     },
     "execution_count": 27,
     "metadata": {},
     "output_type": "execute_result"
    }
   ],
   "source": [
    "sympy.Float(\"0.3\", 25)# Instead of creating from python's 0.3 float number, it cast the string as an exact value"
   ]
  },
  {
   "cell_type": "markdown",
   "id": "844aa5bd",
   "metadata": {},
   "source": [
    "### Sympy Rational numbers and simplification"
   ]
  },
  {
   "cell_type": "code",
   "execution_count": 28,
   "id": "54fdce3c",
   "metadata": {},
   "outputs": [
    {
     "data": {
      "image/png": "[encoded data removed]",
      "text/latex": [
       "$\\displaystyle \\frac{3}{7}$"
      ],
      "text/plain": [
       "3/7"
      ]
     },
     "execution_count": 28,
     "metadata": {},
     "output_type": "execute_result"
    }
   ],
   "source": [
    "sympy.Rational(3, 7)"
   ]
  },
  {
   "cell_type": "code",
   "execution_count": 29,
   "id": "ac32916b",
   "metadata": {},
   "outputs": [],
   "source": [
    "r1 = sympy.Rational(2, 3)\n",
    "r2 = sympy.Rational(4, 5)"
   ]
  },
  {
   "cell_type": "code",
   "execution_count": 30,
   "id": "87086ef8",
   "metadata": {},
   "outputs": [
    {
     "data": {
      "image/png": "[encoded data removed]",
      "text/latex": [
       "$\\displaystyle \\frac{22}{15}$"
      ],
      "text/plain": [
       "22\n",
       "──\n",
       "15"
      ]
     },
     "execution_count": 30,
     "metadata": {},
     "output_type": "execute_result"
    }
   ],
   "source": [
    "r1 + r2"
   ]
  },
  {
   "cell_type": "code",
   "execution_count": 31,
   "id": "696f5afd",
   "metadata": {},
   "outputs": [
    {
     "data": {
      "image/png": "[encoded data removed]",
      "text/latex": [
       "$\\displaystyle \\frac{8}{15}$"
      ],
      "text/plain": [
       "8/15"
      ]
     },
     "execution_count": 31,
     "metadata": {},
     "output_type": "execute_result"
    }
   ],
   "source": [
    "r1 * r2"
   ]
  },
  {
   "cell_type": "code",
   "execution_count": 32,
   "id": "7b12e7b7",
   "metadata": {},
   "outputs": [
    {
     "data": {
      "image/png": "[encoded data removed]",
      "text/latex": [
       "$\\displaystyle \\frac{5}{6}$"
      ],
      "text/plain": [
       "5/6"
      ]
     },
     "execution_count": 32,
     "metadata": {},
     "output_type": "execute_result"
    }
   ],
   "source": [
    "r1 / r2"
   ]
  },
  {
   "cell_type": "code",
   "execution_count": 33,
   "id": "0f310973",
   "metadata": {},
   "outputs": [
    {
     "data": {
      "image/png": "[encoded data removed]",
      "text/latex": [
       "$\\displaystyle 0$"
      ],
      "text/plain": [
       "0"
      ]
     },
     "execution_count": 33,
     "metadata": {},
     "output_type": "execute_result"
    }
   ],
   "source": [
    "r1 / sympy.oo * r2"
   ]
  },
  {
   "cell_type": "markdown",
   "id": "354e37ce",
   "metadata": {},
   "source": [
    "### Function representations\n",
    "Mathematical functions can be represented in sympy. These can be defined, with specific expressions defined in the function, or undefined, which can accent an arbitrary number of arguments and it will not be evaluated as an expression."
   ]
  },
  {
   "cell_type": "code",
   "execution_count": 34,
   "id": "12726f51",
   "metadata": {},
   "outputs": [],
   "source": [
    "x, y, z = sympy.symbols(\"x, y, z\")"
   ]
  },
  {
   "cell_type": "code",
   "execution_count": 35,
   "id": "bcaede8a",
   "metadata": {},
   "outputs": [],
   "source": [
    "f = sympy.Function(\"f\")"
   ]
  },
  {
   "cell_type": "code",
   "execution_count": 36,
   "id": "0e6b29fe",
   "metadata": {},
   "outputs": [
    {
     "data": {
      "text/plain": [
       "sympy.core.function.UndefinedFunction"
      ]
     },
     "execution_count": 36,
     "metadata": {},
     "output_type": "execute_result"
    }
   ],
   "source": [
    "type(f)"
   ]
  },
  {
   "cell_type": "code",
   "execution_count": 37,
   "id": "d14b671f",
   "metadata": {},
   "outputs": [
    {
     "data": {
      "image/png": "[encoded data removed]",
      "text/latex": [
       "$\\displaystyle f{\\left(x \\right)}$"
      ],
      "text/plain": [
       "f(x)"
      ]
     },
     "execution_count": 37,
     "metadata": {},
     "output_type": "execute_result"
    }
   ],
   "source": [
    "f(x)"
   ]
  },
  {
   "cell_type": "code",
   "execution_count": 38,
   "id": "9f3741db",
   "metadata": {},
   "outputs": [],
   "source": [
    "g = sympy.Function(\"g\")(x, y, z)"
   ]
  },
  {
   "cell_type": "code",
   "execution_count": 39,
   "id": "5a43aae1",
   "metadata": {},
   "outputs": [
    {
     "data": {
      "image/png": "[encoded data removed]",
      "text/latex": [
       "$\\displaystyle g{\\left(x,y,z \\right)}$"
      ],
      "text/plain": [
       "g(x, y, z)"
      ]
     },
     "execution_count": 39,
     "metadata": {},
     "output_type": "execute_result"
    }
   ],
   "source": [
    "g"
   ]
  },
  {
   "cell_type": "code",
   "execution_count": 40,
   "id": "14130058",
   "metadata": {},
   "outputs": [
    {
     "data": {
      "image/png": "[encoded data removed]",
      "text/latex": [
       "$\\displaystyle f{\\left(x \\right)} g{\\left(x,y,z \\right)}$"
      ],
      "text/plain": [
       "f(x)⋅g(x, y, z)"
      ]
     },
     "execution_count": 40,
     "metadata": {},
     "output_type": "execute_result"
    }
   ],
   "source": [
    "g * f(x)"
   ]
  },
  {
   "cell_type": "code",
   "execution_count": 41,
   "id": "bad0c9f5",
   "metadata": {},
   "outputs": [
    {
     "data": {
      "image/png": "[encoded data removed]",
      "text/latex": [
       "$\\displaystyle \\left\\{x, y, z\\right\\}$"
      ],
      "text/plain": [
       "{x, y, z}"
      ]
     },
     "execution_count": 41,
     "metadata": {},
     "output_type": "execute_result"
    }
   ],
   "source": [
    "g.free_symbols"
   ]
  },
  {
   "cell_type": "markdown",
   "id": "f43c048a",
   "metadata": {},
   "source": [
    "#### sympy.functions.elementary:"
   ]
  },
  {
   "cell_type": "code",
   "execution_count": 42,
   "id": "e898f8df",
   "metadata": {},
   "outputs": [
    {
     "data": {
      "image/png": "[encoded data removed]",
      "text/latex": [
       "$\\displaystyle \\sin{\\left(x \\right)}$"
      ],
      "text/plain": [
       "sin(x)"
      ]
     },
     "execution_count": 42,
     "metadata": {},
     "output_type": "execute_result"
    }
   ],
   "source": [
    "sympy.sin(x)"
   ]
  },
  {
   "cell_type": "code",
   "execution_count": 43,
   "id": "6005c17e",
   "metadata": {},
   "outputs": [
    {
     "data": {
      "image/png": "[encoded data removed]",
      "text/latex": [
       "$\\displaystyle 1$"
      ],
      "text/plain": [
       "1"
      ]
     },
     "execution_count": 43,
     "metadata": {},
     "output_type": "execute_result"
    }
   ],
   "source": [
    "sympy.sin(sympy.pi * 2.5)"
   ]
  },
  {
   "cell_type": "code",
   "execution_count": 44,
   "id": "c391d72c",
   "metadata": {},
   "outputs": [],
   "source": [
    "n = sympy.Symbol(\"n\", integer=True)\n",
    "m = sympy.Symbol(\"n\", real=True)"
   ]
  },
  {
   "cell_type": "code",
   "execution_count": 45,
   "id": "4c6a2f01",
   "metadata": {},
   "outputs": [
    {
     "data": {
      "image/png": "[encoded data removed]",
      "text/latex": [
       "$\\displaystyle 0$"
      ],
      "text/plain": [
       "0"
      ]
     },
     "execution_count": 45,
     "metadata": {},
     "output_type": "execute_result"
    }
   ],
   "source": [
    "sympy.sin(sympy.pi * n)"
   ]
  },
  {
   "cell_type": "code",
   "execution_count": 46,
   "id": "7159945a",
   "metadata": {},
   "outputs": [
    {
     "data": {
      "image/png": "[encoded data removed]",
      "text/latex": [
       "$\\displaystyle \\sin{\\left(\\pi n \\right)}$"
      ],
      "text/plain": [
       "sin(π⋅n)"
      ]
     },
     "execution_count": 46,
     "metadata": {},
     "output_type": "execute_result"
    }
   ],
   "source": [
    "sympy.sin(sympy.pi * m)"
   ]
  },
  {
   "cell_type": "markdown",
   "id": "c20add21",
   "metadata": {},
   "source": [
    "**Sympy Lambda Functions:**"
   ]
  },
  {
   "cell_type": "code",
   "execution_count": 47,
   "id": "585e35a7",
   "metadata": {},
   "outputs": [],
   "source": [
    "f = sympy.Lambda(x, x ** 2)"
   ]
  },
  {
   "cell_type": "code",
   "execution_count": 48,
   "id": "3968f4f8",
   "metadata": {},
   "outputs": [
    {
     "data": {
      "image/png": "[encoded data removed]",
      "text/latex": [
       "$\\displaystyle 25$"
      ],
      "text/plain": [
       "25"
      ]
     },
     "execution_count": 48,
     "metadata": {},
     "output_type": "execute_result"
    }
   ],
   "source": [
    "f(5)"
   ]
  },
  {
   "cell_type": "code",
   "execution_count": 49,
   "id": "3acb6048",
   "metadata": {},
   "outputs": [
    {
     "data": {
      "image/png": "[encoded data removed]",
      "text/latex": [
       "$\\displaystyle \\left(x + y\\right)^{2}$"
      ],
      "text/plain": [
       "       2\n",
       "(x + y) "
      ]
     },
     "execution_count": 49,
     "metadata": {},
     "output_type": "execute_result"
    }
   ],
   "source": [
    "f(x+y)"
   ]
  },
  {
   "cell_type": "code",
   "execution_count": 50,
   "id": "1b812b53",
   "metadata": {},
   "outputs": [
    {
     "data": {
      "image/png": "[encoded data removed]",
      "text/latex": [
       "$\\displaystyle \\left( x \\mapsto x^{2} \\right)$"
      ],
      "text/plain": [
       "     2\n",
       "x ↦ x "
      ]
     },
     "execution_count": 50,
     "metadata": {},
     "output_type": "execute_result"
    }
   ],
   "source": [
    "f"
   ]
  },
  {
   "cell_type": "code",
   "execution_count": 51,
   "id": "9cd558d8",
   "metadata": {},
   "outputs": [
    {
     "data": {
      "image/png": "[encoded data removed]",
      "text/latex": [
       "$\\displaystyle \\left(- y + \\left(- y + \\left(x - y\\right)^{2}\\right)^{2}\\right)^{2}$"
      ],
      "text/plain": [
       "                       2\n",
       "⎛                    2⎞ \n",
       "⎜     ⎛            2⎞ ⎟ \n",
       "⎝-y + ⎝-y + (x - y) ⎠ ⎠ "
      ]
     },
     "execution_count": 51,
     "metadata": {},
     "output_type": "execute_result"
    }
   ],
   "source": [
    "f(f(f(x-y)-y)-y)"
   ]
  },
  {
   "cell_type": "markdown",
   "id": "7745822d",
   "metadata": {},
   "source": [
    "### Expressions"
   ]
  },
  {
   "cell_type": "code",
   "execution_count": 52,
   "id": "2195d355",
   "metadata": {},
   "outputs": [],
   "source": [
    "x = sympy.Symbol(\"x\")"
   ]
  },
  {
   "cell_type": "code",
   "execution_count": 53,
   "id": "7fad03c7",
   "metadata": {},
   "outputs": [],
   "source": [
    "expr = 1 + 3 * x ** 2 + 8 * x ** 3"
   ]
  },
  {
   "cell_type": "code",
   "execution_count": 54,
   "id": "121e11d8",
   "metadata": {},
   "outputs": [
    {
     "data": {
      "image/png": "[encoded data removed]",
      "text/latex": [
       "$\\displaystyle 8 x^{3} + 3 x^{2} + 1$"
      ],
      "text/plain": [
       "   3      2    \n",
       "8⋅x  + 3⋅x  + 1"
      ]
     },
     "execution_count": 54,
     "metadata": {},
     "output_type": "execute_result"
    }
   ],
   "source": [
    "expr"
   ]
  },
  {
   "cell_type": "code",
   "execution_count": 55,
   "id": "c38aebca",
   "metadata": {},
   "outputs": [
    {
     "data": {
      "image/png": "[encoded data removed]",
      "text/latex": [
       "$\\displaystyle \\left( 1, \\  3 x^{2}, \\  8 x^{3}\\right)$"
      ],
      "text/plain": [
       "⎛      2     3⎞\n",
       "⎝1, 3⋅x , 8⋅x ⎠"
      ]
     },
     "execution_count": 55,
     "metadata": {},
     "output_type": "execute_result"
    }
   ],
   "source": [
    "expr.args"
   ]
  },
  {
   "cell_type": "code",
   "execution_count": 56,
   "id": "b84f35cc",
   "metadata": {},
   "outputs": [],
   "source": [
    "expr2 = (x+2) ** 2"
   ]
  },
  {
   "cell_type": "code",
   "execution_count": 57,
   "id": "bb50fd66",
   "metadata": {},
   "outputs": [],
   "source": [
    "e = sympy.expand(expr2)"
   ]
  },
  {
   "cell_type": "code",
   "execution_count": 58,
   "id": "dc337119",
   "metadata": {},
   "outputs": [
    {
     "data": {
      "image/png": "[encoded data removed]",
      "text/latex": [
       "$\\displaystyle x^{2} + 4 x + 4$"
      ],
      "text/plain": [
       " 2          \n",
       "x  + 4⋅x + 4"
      ]
     },
     "execution_count": 58,
     "metadata": {},
     "output_type": "execute_result"
    }
   ],
   "source": [
    "# Expression simplification -- not workling here, but you get it...\n",
    "sympy.simplify(e)"
   ]
  },
  {
   "cell_type": "code",
   "execution_count": 59,
   "id": "278f90c4",
   "metadata": {},
   "outputs": [],
   "source": [
    "# Expression expansion"
   ]
  },
  {
   "cell_type": "code",
   "execution_count": 60,
   "id": "be27fa5a",
   "metadata": {},
   "outputs": [],
   "source": [
    "expr = (x + 1) * (x + 2)"
   ]
  },
  {
   "cell_type": "code",
   "execution_count": 61,
   "id": "13dd7fda",
   "metadata": {},
   "outputs": [
    {
     "data": {
      "image/png": "[encoded data removed]",
      "text/latex": [
       "$\\displaystyle \\left(x + 1\\right) \\left(x + 2\\right)$"
      ],
      "text/plain": [
       "(x + 1)⋅(x + 2)"
      ]
     },
     "execution_count": 61,
     "metadata": {},
     "output_type": "execute_result"
    }
   ],
   "source": [
    "expr"
   ]
  },
  {
   "cell_type": "code",
   "execution_count": 62,
   "id": "8f4bd137",
   "metadata": {},
   "outputs": [
    {
     "data": {
      "image/png": "[encoded data removed]",
      "text/latex": [
       "$\\displaystyle x^{2} + 3 x + 2$"
      ],
      "text/plain": [
       " 2          \n",
       "x  + 3⋅x + 2"
      ]
     },
     "execution_count": 62,
     "metadata": {},
     "output_type": "execute_result"
    }
   ],
   "source": [
    "expr.expand()"
   ]
  },
  {
   "cell_type": "code",
   "execution_count": 63,
   "id": "ccff5efe",
   "metadata": {},
   "outputs": [
    {
     "data": {
      "image/png": "[encoded data removed]",
      "text/latex": [
       "$\\displaystyle \\sin{\\left(x \\right)} \\cos{\\left(y \\right)} + \\sin{\\left(y \\right)} \\cos{\\left(x \\right)}$"
      ],
      "text/plain": [
       "sin(x)⋅cos(y) + sin(y)⋅cos(x)"
      ]
     },
     "execution_count": 63,
     "metadata": {},
     "output_type": "execute_result"
    }
   ],
   "source": [
    "sympy.sin(x + y).expand(trig=True) # The argument trig=True will tell sympy to expand over trigonometric rules"
   ]
  },
  {
   "cell_type": "code",
   "execution_count": 64,
   "id": "bf7d3d20",
   "metadata": {},
   "outputs": [
    {
     "data": {
      "image/png": "[encoded data removed]",
      "text/latex": [
       "$\\displaystyle \\log{\\left(- a \\right)} + \\log{\\left(- b \\right)}$"
      ],
      "text/plain": [
       "log(-a) + log(-b)"
      ]
     },
     "execution_count": 64,
     "metadata": {},
     "output_type": "execute_result"
    }
   ],
   "source": [
    "sympy.log(a * b).expand(log=True) # The same as above, but using log properties"
   ]
  },
  {
   "cell_type": "code",
   "execution_count": 65,
   "id": "be19b9c1",
   "metadata": {},
   "outputs": [
    {
     "data": {
      "image/png": "[encoded data removed]",
      "text/latex": [
       "$\\displaystyle i e^{b} \\sin{\\left(a \\right)} + e^{b} \\cos{\\left(a \\right)}$"
      ],
      "text/plain": [
       "   b           b       \n",
       "ⅈ⋅ℯ ⋅sin(a) + ℯ ⋅cos(a)"
      ]
     },
     "execution_count": 65,
     "metadata": {},
     "output_type": "execute_result"
    }
   ],
   "source": [
    "sympy.exp(sympy.I * a + b).expand(complex=True) # for complex expressions"
   ]
  },
  {
   "cell_type": "code",
   "execution_count": 66,
   "id": "473967bb",
   "metadata": {},
   "outputs": [
    {
     "data": {
      "image/png": "[encoded data removed]",
      "text/latex": [
       "$\\displaystyle e^{a x} e^{- b x}$"
      ],
      "text/plain": [
       " a⋅x  -b⋅x\n",
       "ℯ   ⋅ℯ    "
      ]
     },
     "execution_count": 66,
     "metadata": {},
     "output_type": "execute_result"
    }
   ],
   "source": [
    "sympy.exp((a - b) * x).expand(power_exp=True) # for power expansions"
   ]
  },
  {
   "cell_type": "markdown",
   "id": "1c4cfb38",
   "metadata": {},
   "source": [
    "**Factor, collect and combine**"
   ]
  },
  {
   "cell_type": "code",
   "execution_count": 67,
   "id": "6b38bafb",
   "metadata": {},
   "outputs": [
    {
     "data": {
      "image/png": "[encoded data removed]",
      "text/latex": [
       "$\\displaystyle \\left(x - 1\\right) \\left(x + 1\\right)$"
      ],
      "text/plain": [
       "(x - 1)⋅(x + 1)"
      ]
     },
     "execution_count": 67,
     "metadata": {},
     "output_type": "execute_result"
    }
   ],
   "source": [
    "sympy.factor(x ** 2 - 1)"
   ]
  },
  {
   "cell_type": "code",
   "execution_count": 68,
   "id": "adfc36d6",
   "metadata": {},
   "outputs": [],
   "source": [
    "expr3 = x * sympy.cos(y) + sympy.sin(z) * x"
   ]
  },
  {
   "cell_type": "code",
   "execution_count": 70,
   "id": "31d2c4e5",
   "metadata": {},
   "outputs": [
    {
     "data": {
      "image/png": "[encoded data removed]",
      "text/latex": [
       "$\\displaystyle x \\sin{\\left(z \\right)} + x \\cos{\\left(y \\right)}$"
      ],
      "text/plain": [
       "x⋅sin(z) + x⋅cos(y)"
      ]
     },
     "execution_count": 70,
     "metadata": {},
     "output_type": "execute_result"
    }
   ],
   "source": [
    "expr3"
   ]
  },
  {
   "cell_type": "code",
   "execution_count": 71,
   "id": "4ca47e30",
   "metadata": {},
   "outputs": [
    {
     "data": {
      "image/png": "[encoded data removed]",
      "text/latex": [
       "$\\displaystyle x \\left(\\sin{\\left(z \\right)} + \\cos{\\left(y \\right)}\\right)$"
      ],
      "text/plain": [
       "x⋅(sin(z) + cos(y))"
      ]
     },
     "execution_count": 71,
     "metadata": {},
     "output_type": "execute_result"
    }
   ],
   "source": [
    "sympy.factor(expr3)"
   ]
  },
  {
   "cell_type": "code",
   "execution_count": 76,
   "id": "b27e0407",
   "metadata": {},
   "outputs": [],
   "source": [
    "a, b = sympy.symbols(\"a, b\", positive=True)"
   ]
  },
  {
   "cell_type": "code",
   "execution_count": 77,
   "id": "e1c395c2",
   "metadata": {},
   "outputs": [],
   "source": [
    "expr4 = (sympy.log(a) - sympy.log(b))"
   ]
  },
  {
   "cell_type": "code",
   "execution_count": 78,
   "id": "28bd989f",
   "metadata": {},
   "outputs": [
    {
     "data": {
      "image/png": "[encoded data removed]",
      "text/latex": [
       "$\\displaystyle \\log{\\left(a \\right)} - \\log{\\left(b \\right)}$"
      ],
      "text/plain": [
       "log(a) - log(b)"
      ]
     },
     "execution_count": 78,
     "metadata": {},
     "output_type": "execute_result"
    }
   ],
   "source": [
    "expr4"
   ]
  },
  {
   "cell_type": "code",
   "execution_count": 80,
   "id": "03d73726",
   "metadata": {},
   "outputs": [
    {
     "data": {
      "image/png": "[encoded data removed]",
      "text/latex": [
       "$\\displaystyle \\log{\\left(\\frac{a}{b} \\right)}$"
      ],
      "text/plain": [
       "   ⎛a⎞\n",
       "log⎜─⎟\n",
       "   ⎝b⎠"
      ]
     },
     "execution_count": 80,
     "metadata": {},
     "output_type": "execute_result"
    }
   ],
   "source": [
    "sympy.logcombine(expr4) # using logcombine to combine using the properties of logs"
   ]
  },
  {
   "cell_type": "code",
   "execution_count": 82,
   "id": "af285c45",
   "metadata": {},
   "outputs": [],
   "source": [
    "expr5 = x + y + x * y * z"
   ]
  },
  {
   "cell_type": "code",
   "execution_count": 83,
   "id": "4be4019e",
   "metadata": {},
   "outputs": [
    {
     "data": {
      "image/png": "[encoded data removed]",
      "text/latex": [
       "$\\displaystyle x y z + x + y$"
      ],
      "text/plain": [
       "x⋅y⋅z + x + y"
      ]
     },
     "execution_count": 83,
     "metadata": {},
     "output_type": "execute_result"
    }
   ],
   "source": [
    "expr5"
   ]
  },
  {
   "cell_type": "code",
   "execution_count": 85,
   "id": "218d5062",
   "metadata": {},
   "outputs": [
    {
     "data": {
      "image/png": "[encoded data removed]",
      "text/latex": [
       "$\\displaystyle x y z + x + y$"
      ],
      "text/plain": [
       "x⋅y⋅z + x + y"
      ]
     },
     "execution_count": 85,
     "metadata": {},
     "output_type": "execute_result"
    }
   ],
   "source": [
    "sympy.factor(expr5) # sympy can't factor it, because not all elements have an x"
   ]
  },
  {
   "cell_type": "code",
   "execution_count": 87,
   "id": "cd7199c4",
   "metadata": {},
   "outputs": [
    {
     "data": {
      "image/png": "[encoded data removed]",
      "text/latex": [
       "$\\displaystyle x + y \\left(x z + 1\\right)$"
      ],
      "text/plain": [
       "x + y⋅(x⋅z + 1)"
      ]
     },
     "execution_count": 87,
     "metadata": {},
     "output_type": "execute_result"
    }
   ],
   "source": [
    "expr5.collect(y) # but it can collect and simplify the elements that have it"
   ]
  },
  {
   "cell_type": "code",
   "execution_count": 88,
   "id": "637bc545",
   "metadata": {},
   "outputs": [
    {
     "data": {
      "image/png": "[encoded data removed]",
      "text/latex": [
       "$\\displaystyle x \\left(y z + 1\\right) + y$"
      ],
      "text/plain": [
       "x⋅(y⋅z + 1) + y"
      ]
     },
     "execution_count": 88,
     "metadata": {},
     "output_type": "execute_result"
    }
   ],
   "source": [
    "expr5.collect(x) # The syntax is expression.collect(item_to_collect)"
   ]
  },
  {
   "cell_type": "code",
   "execution_count": 95,
   "id": "de8dd413",
   "metadata": {},
   "outputs": [
    {
     "name": "stdout",
     "output_type": "stream",
     "text": [
      "z -> x*y*z + x + y\n",
      "x -> x*(y*z + 1) + y\n",
      "y -> x + y*(x*z + 1)\n"
     ]
    }
   ],
   "source": [
    "for el in expr5.free_symbols:\n",
    "    print(f\"{el} ->\", expr5.collect(el))"
   ]
  },
  {
   "cell_type": "markdown",
   "id": "b7b99f89",
   "metadata": {},
   "source": [
    "Since collect returns a new expression, multiple collection calls can be chained together."
   ]
  },
  {
   "cell_type": "code",
   "execution_count": 96,
   "id": "23bcd688",
   "metadata": {},
   "outputs": [],
   "source": [
    "expr6 = sympy.cos(x+y) + sympy.sin(x-y)"
   ]
  },
  {
   "cell_type": "code",
   "execution_count": 102,
   "id": "e613427d",
   "metadata": {},
   "outputs": [
    {
     "data": {
      "image/png": "[encoded data removed]",
      "text/latex": [
       "$\\displaystyle \\sin{\\left(x - y \\right)} + \\cos{\\left(x + y \\right)}$"
      ],
      "text/plain": [
       "sin(x - y) + cos(x + y)"
      ]
     },
     "execution_count": 102,
     "metadata": {},
     "output_type": "execute_result"
    }
   ],
   "source": [
    "expr6"
   ]
  },
  {
   "cell_type": "code",
   "execution_count": 103,
   "id": "080da09d",
   "metadata": {},
   "outputs": [
    {
     "data": {
      "image/png": "[encoded data removed]",
      "text/latex": [
       "$\\displaystyle - \\sin{\\left(x \\right)} \\sin{\\left(y \\right)} + \\sin{\\left(x \\right)} \\cos{\\left(y \\right)} - \\sin{\\left(y \\right)} \\cos{\\left(x \\right)} + \\cos{\\left(x \\right)} \\cos{\\left(y \\right)}$"
      ],
      "text/plain": [
       "-sin(x)⋅sin(y) + sin(x)⋅cos(y) - sin(y)⋅cos(x) + cos(x)⋅cos(y)"
      ]
     },
     "execution_count": 103,
     "metadata": {},
     "output_type": "execute_result"
    }
   ],
   "source": [
    "expr6.expand(trig=True)"
   ]
  },
  {
   "cell_type": "code",
   "execution_count": 104,
   "id": "057e3a80",
   "metadata": {},
   "outputs": [
    {
     "data": {
      "image/png": "[encoded data removed]",
      "text/latex": [
       "$\\displaystyle \\left(- \\sin{\\left(y \\right)} + \\cos{\\left(y \\right)}\\right) \\sin{\\left(x \\right)} + \\left(- \\sin{\\left(y \\right)} + \\cos{\\left(y \\right)}\\right) \\cos{\\left(x \\right)}$"
      ],
      "text/plain": [
       "(-sin(y) + cos(y))⋅sin(x) + (-sin(y) + cos(y))⋅cos(x)"
      ]
     },
     "execution_count": 104,
     "metadata": {},
     "output_type": "execute_result"
    }
   ],
   "source": [
    "expr6.expand(trig=True).collect([sympy.cos(x), sympy.sin(x)])"
   ]
  },
  {
   "cell_type": "code",
   "execution_count": 105,
   "id": "aa074f27",
   "metadata": {},
   "outputs": [
    {
     "data": {
      "image/png": "[encoded data removed]",
      "text/latex": [
       "$\\displaystyle \\left(\\sin{\\left(x \\right)} + \\cos{\\left(x \\right)}\\right) \\left(- \\sin{\\left(y \\right)} + \\cos{\\left(y \\right)}\\right)$"
      ],
      "text/plain": [
       "(sin(x) + cos(x))⋅(-sin(y) + cos(y))"
      ]
     },
     "execution_count": 105,
     "metadata": {},
     "output_type": "execute_result"
    }
   ],
   "source": [
    "expr6.expand(trig=True).collect([sympy.cos(x), sympy.sin(x)]).collect(sympy.cos(y)-sympy.sin(y))"
   ]
  },
  {
   "cell_type": "markdown",
   "id": "4155cffa",
   "metadata": {},
   "source": [
    "### Apart, Together and Cancel\n",
    "Another possible manipulation is to rewrite fractions."
   ]
  },
  {
   "cell_type": "code",
   "execution_count": 110,
   "id": "0458509d",
   "metadata": {},
   "outputs": [],
   "source": [
    "expr = 1/(x**2+3*x+2)"
   ]
  },
  {
   "cell_type": "code",
   "execution_count": 111,
   "id": "b5f2666a",
   "metadata": {},
   "outputs": [
    {
     "data": {
      "image/png": "[encoded data removed]",
      "text/latex": [
       "$\\displaystyle \\frac{1}{x^{2} + 3 x + 2}$"
      ],
      "text/plain": [
       "     1      \n",
       "────────────\n",
       " 2          \n",
       "x  + 3⋅x + 2"
      ]
     },
     "execution_count": 111,
     "metadata": {},
     "output_type": "execute_result"
    }
   ],
   "source": [
    "expr"
   ]
  },
  {
   "cell_type": "code",
   "execution_count": 112,
   "id": "6fe10254",
   "metadata": {},
   "outputs": [
    {
     "data": {
      "image/png": "[encoded data removed]",
      "text/latex": [
       "$\\displaystyle - \\frac{1}{x + 2} + \\frac{1}{x + 1}$"
      ],
      "text/plain": [
       "    1       1  \n",
       "- ───── + ─────\n",
       "  x + 2   x + 1"
      ]
     },
     "execution_count": 112,
     "metadata": {},
     "output_type": "execute_result"
    }
   ],
   "source": [
    "sympy.apart(expr, x)"
   ]
  },
  {
   "cell_type": "code",
   "execution_count": 113,
   "id": "ed6026be",
   "metadata": {},
   "outputs": [],
   "source": [
    "expr2 = 1 / (y * x + y) + 1 / (1 + x) "
   ]
  },
  {
   "cell_type": "code",
   "execution_count": 114,
   "id": "13c6a048",
   "metadata": {},
   "outputs": [
    {
     "data": {
      "image/png": "[encoded data removed]",
      "text/latex": [
       "$\\displaystyle \\frac{1}{x y + y} + \\frac{1}{x + 1}$"
      ],
      "text/plain": [
       "   1        1  \n",
       "─────── + ─────\n",
       "x⋅y + y   x + 1"
      ]
     },
     "execution_count": 114,
     "metadata": {},
     "output_type": "execute_result"
    }
   ],
   "source": [
    "expr2"
   ]
  },
  {
   "cell_type": "code",
   "execution_count": 115,
   "id": "da298e88",
   "metadata": {},
   "outputs": [
    {
     "data": {
      "image/png": "[encoded data removed]",
      "text/latex": [
       "$\\displaystyle \\frac{y + 1}{y \\left(x + 1\\right)}$"
      ],
      "text/plain": [
       "  y + 1  \n",
       "─────────\n",
       "y⋅(x + 1)"
      ]
     },
     "execution_count": 115,
     "metadata": {},
     "output_type": "execute_result"
    }
   ],
   "source": [
    "sympy.together(expr2)"
   ]
  },
  {
   "cell_type": "code",
   "execution_count": 116,
   "id": "bb6964d3",
   "metadata": {},
   "outputs": [],
   "source": [
    "expr3 = y / (y * x + y)"
   ]
  },
  {
   "cell_type": "code",
   "execution_count": 117,
   "id": "131f0f29",
   "metadata": {},
   "outputs": [
    {
     "data": {
      "image/png": "[encoded data removed]",
      "text/latex": [
       "$\\displaystyle \\frac{y}{x y + y}$"
      ],
      "text/plain": [
       "   y   \n",
       "───────\n",
       "x⋅y + y"
      ]
     },
     "execution_count": 117,
     "metadata": {},
     "output_type": "execute_result"
    }
   ],
   "source": [
    "expr3"
   ]
  },
  {
   "cell_type": "code",
   "execution_count": 118,
   "id": "bf14fbba",
   "metadata": {},
   "outputs": [
    {
     "data": {
      "image/png": "[encoded data removed]",
      "text/latex": [
       "$\\displaystyle \\frac{1}{x + 1}$"
      ],
      "text/plain": [
       "  1  \n",
       "─────\n",
       "x + 1"
      ]
     },
     "execution_count": 118,
     "metadata": {},
     "output_type": "execute_result"
    }
   ],
   "source": [
    "sympy.cancel(expr3)"
   ]
  },
  {
   "cell_type": "markdown",
   "id": "f315b787",
   "metadata": {},
   "source": [
    "## Continue at page 116"
   ]
  },
  {
   "cell_type": "code",
   "execution_count": null,
   "id": "4f86a4a0",
   "metadata": {},
   "outputs": [],
   "source": []
  }
 ],
 "metadata": {
  "kernelspec": {
   "display_name": "Python 3 (ipykernel)",
   "language": "python",
   "name": "python3"
  },
  "language_info": {
   "codemirror_mode": {
    "name": "ipython",
    "version": 3
   },
   "file_extension": ".py",
   "mimetype": "text/x-python",
   "name": "python",
   "nbconvert_exporter": "python",
   "pygments_lexer": "ipython3",
   "version": "3.9.6"
  }
 },
 "nbformat": 4,
 "nbformat_minor": 5
}
